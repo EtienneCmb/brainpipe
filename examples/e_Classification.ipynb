{
 "cells": [
  {
   "cell_type": "markdown",
   "metadata": {},
   "source": [
    "This notebook illustrate how to define a cross-validation, a classifier, to classify a set a features and to visualize results.\n",
    "Documentation: https://etiennecmb.github.io/classification.html"
   ]
  },
  {
   "cell_type": "markdown",
   "metadata": {},
   "source": [
    "# Import librairies"
   ]
  },
  {
   "cell_type": "code",
   "execution_count": 1,
   "metadata": {
    "collapsed": false
   },
   "outputs": [],
   "source": [
    "import numpy as np\n",
    "import matplotlib.pyplot as plt\n",
    "%matplotlib inline\n",
    "# u can use %matplotlib notebook, but there is some bugs with xticks and title\n",
    "\n",
    "from brainpipe.classification import *\n",
    "from brainpipe.visual import *"
   ]
  },
  {
   "cell_type": "markdown",
   "metadata": {},
   "source": [
    "# Create a random dataset\n",
    "We are going to create a random dataset for a 2 class problem, n_trials pear class and n_feature. The quality of decoding of features will be increasing with the ranking, meaning that the first feature is going to be a bad one, the second alittle bit better, the third..., the last, the best one.\n",
    "## Dataset settings"
   ]
  },
  {
   "cell_type": "code",
   "execution_count": 2,
   "metadata": {
    "collapsed": true
   },
   "outputs": [],
   "source": [
    "n_trials = 100    # Number of trials pear class\n",
    "n_features = 15   # Number of features"
   ]
  },
  {
   "cell_type": "markdown",
   "metadata": {},
   "source": [
    "## Create datasets"
   ]
  },
  {
   "cell_type": "code",
   "execution_count": 3,
   "metadata": {
    "collapsed": false,
    "scrolled": false
   },
   "outputs": [
    {
     "data": {
      "image/png": "[encoded data removed]",
      "text/plain": [
       "<matplotlib.figure.Figure at 0x7f1954b87128>"
      ]
     },
     "metadata": {},
     "output_type": "display_data"
    }
   ],
   "source": [
    "spread = np.linspace(0, 0.3, n_features)\n",
    "class1 = np.random.uniform(size=(n_trials, n_features)) + spread\n",
    "class2 = np.random.uniform(size=(n_trials, n_features)) - spread\n",
    "x = np.concatenate((class1, class2), axis=0)\n",
    "y = np.ravel([[k]*n_trials for k in np.arange(2)])\n",
    "\n",
    "plt.figure(0, figsize=(12,6))\n",
    "plt.boxplot(x);\n",
    "rmaxis(plt.gca(), ['top', 'right']);\n",
    "plt.xlabel('Features'), plt.ylabel('Values');"
   ]
  },
  {
   "cell_type": "markdown",
   "metadata": {},
   "source": [
    "# Classification\n",
    "## Define a classifier\n",
    "We are going to create a classifier: a Support Vector Machine with a rbf kernel"
   ]
  },
  {
   "cell_type": "code",
   "execution_count": 4,
   "metadata": {
    "collapsed": false
   },
   "outputs": [],
   "source": [
    "model = 'svm'\n",
    "kern='rbf'\n",
    "clf_obj = defClf(y, clf=model, kern=kern)"
   ]
  },
  {
   "cell_type": "markdown",
   "metadata": {},
   "source": [
    "## Define a cross-validation\n",
    "Here, we create a five times 10-stratified cross-validation"
   ]
  },
  {
   "cell_type": "code",
   "execution_count": 5,
   "metadata": {
    "collapsed": false
   },
   "outputs": [],
   "source": [
    "rep = 5\n",
    "cvmodel = 'skfold'\n",
    "cv_obj = defCv(y, cvtype=cvmodel, rep=rep)"
   ]
  },
  {
   "cell_type": "markdown",
   "metadata": {},
   "source": [
    "## Create the classification object\n",
    "Basically, this object link the cross-validation and the classifier together and provide a bundle of functions."
   ]
  },
  {
   "cell_type": "code",
   "execution_count": 6,
   "metadata": {
    "collapsed": false
   },
   "outputs": [],
   "source": [
    "cla_obj = classify(y, clf=clf_obj, cvtype=cv_obj)"
   ]
  },
  {
   "cell_type": "markdown",
   "metadata": {},
   "source": [
    "## Be sure of your settings\n",
    "If you want to be sure of your current settings, you can print embedded tables\n",
    "### Classifier and cross-validation"
   ]
  },
  {
   "cell_type": "code",
   "execution_count": 7,
   "metadata": {
    "collapsed": false
   },
   "outputs": [
    {
     "data": {
      "text/html": [
       "<div>\n",
       "<table border=\"1\" class=\"dataframe\">\n",
       "  <thead>\n",
       "    <tr style=\"text-align: right;\">\n",
       "      <th></th>\n",
       "      <th>Chance (theorical, %)</th>\n",
       "      <th>Class</th>\n",
       "      <th>Classifier</th>\n",
       "      <th>Cross-validation</th>\n",
       "      <th>Repetition</th>\n",
       "    </tr>\n",
       "  </thead>\n",
       "  <tbody>\n",
       "    <tr>\n",
       "      <th>0</th>\n",
       "      <td>50.0</td>\n",
       "      <td>[0, 1]</td>\n",
       "      <td>Support Vector Machine (kernel=rbf)</td>\n",
       "      <td>5-times, 10 Stratified k-folds</td>\n",
       "      <td>5</td>\n",
       "    </tr>\n",
       "  </tbody>\n",
       "</table>\n",
       "</div>"
      ],
      "text/plain": [
       "   Chance (theorical, %)   Class                           Classifier  \\\n",
       "0                   50.0  [0, 1]  Support Vector Machine (kernel=rbf)   \n",
       "\n",
       "                 Cross-validation  Repetition  \n",
       "0  5-times, 10 Stratified k-folds           5  "
      ]
     },
     "execution_count": 7,
     "metadata": {},
     "output_type": "execute_result"
    }
   ],
   "source": [
    "cla_obj.info.clfinfo"
   ]
  },
  {
   "cell_type": "markdown",
   "metadata": {
    "run_control": {
     "marked": true
    }
   },
   "source": [
    "### Statistics"
   ]
  },
  {
   "cell_type": "code",
   "execution_count": 8,
   "metadata": {
    "collapsed": false
   },
   "outputs": [
    {
     "data": {
      "text/html": [
       "<div>\n",
       "<table border=\"1\" class=\"dataframe\">\n",
       "  <thead>\n",
       "    <tr style=\"text-align: right;\">\n",
       "      <th></th>\n",
       "      <th>Chance (binomial, %)</th>\n",
       "      <th>Chance (theorical, %)</th>\n",
       "      <th>Class</th>\n",
       "      <th>N-class</th>\n",
       "    </tr>\n",
       "  </thead>\n",
       "  <tbody>\n",
       "    <tr>\n",
       "      <th>0</th>\n",
       "      <td>{'p_0.05': 56.0, 'p_0.01': 58.0, 'p_0.001': 61.0}</td>\n",
       "      <td>50.0</td>\n",
       "      <td>[0, 1]</td>\n",
       "      <td>2</td>\n",
       "    </tr>\n",
       "  </tbody>\n",
       "</table>\n",
       "</div>"
      ],
      "text/plain": [
       "                                Chance (binomial, %)  Chance (theorical, %)  \\\n",
       "0  {'p_0.05': 56.0, 'p_0.01': 58.0, 'p_0.001': 61.0}                   50.0   \n",
       "\n",
       "    Class  N-class  \n",
       "0  [0, 1]        2  "
      ]
     },
     "execution_count": 8,
     "metadata": {},
     "output_type": "execute_result"
    }
   ],
   "source": [
    "cla_obj.info.statinfo"
   ]
  },
  {
   "cell_type": "markdown",
   "metadata": {},
   "source": [
    "## Run the classification\n",
    "Here, we classify each feature separatly and estimate the significiancy of each one using 20 permutations (randomize vector label 20 times which to at least p<0.05 p-values)"
   ]
  },
  {
   "cell_type": "code",
   "execution_count": 9,
   "metadata": {
    "collapsed": false
   },
   "outputs": [],
   "source": [
    "da, pvalue, daperm = cla_obj.fit(x, n_perm=20, method='label_rnd')"
   ]
  },
  {
   "cell_type": "markdown",
   "metadata": {},
   "source": [
    "## Display features information and save to an excel file"
   ]
  },
  {
   "cell_type": "code",
   "execution_count": 10,
   "metadata": {
    "collapsed": false
   },
   "outputs": [
    {
     "data": {
      "text/html": [
       "<div>\n",
       "<table border=\"1\" class=\"dataframe\">\n",
       "  <thead>\n",
       "    <tr>\n",
       "      <th>Settings</th>\n",
       "      <th colspan=\"5\" halign=\"left\">SVM-rbf / 5-rep_10-skfold</th>\n",
       "    </tr>\n",
       "    <tr>\n",
       "      <th>Results</th>\n",
       "      <th>DA (%)</th>\n",
       "      <th>STD (+/-)</th>\n",
       "      <th>p-values (Binomial)</th>\n",
       "      <th>p-values (Permutations)</th>\n",
       "      <th>Group</th>\n",
       "    </tr>\n",
       "  </thead>\n",
       "  <tbody>\n",
       "    <tr>\n",
       "      <th>0</th>\n",
       "      <td>47.9</td>\n",
       "      <td>2.22</td>\n",
       "      <td>0.7376888221388045</td>\n",
       "      <td>0.45</td>\n",
       "      <td>0</td>\n",
       "    </tr>\n",
       "    <tr>\n",
       "      <th>1</th>\n",
       "      <td>55.6</td>\n",
       "      <td>0.49</td>\n",
       "      <td>0.051819519218933796</td>\n",
       "      <td>0.15</td>\n",
       "      <td>1</td>\n",
       "    </tr>\n",
       "    <tr>\n",
       "      <th>2</th>\n",
       "      <td>55.8</td>\n",
       "      <td>0.6</td>\n",
       "      <td>0.051819519218933796</td>\n",
       "      <td>0.05</td>\n",
       "      <td>2</td>\n",
       "    </tr>\n",
       "    <tr>\n",
       "      <th>3</th>\n",
       "      <td>60.5</td>\n",
       "      <td>1.0</td>\n",
       "      <td>0.0011397192509029486</td>\n",
       "      <td>0.05</td>\n",
       "      <td>3</td>\n",
       "    </tr>\n",
       "    <tr>\n",
       "      <th>4</th>\n",
       "      <td>60.3</td>\n",
       "      <td>0.68</td>\n",
       "      <td>0.0018174739762649716</td>\n",
       "      <td>0.05</td>\n",
       "      <td>4</td>\n",
       "    </tr>\n",
       "    <tr>\n",
       "      <th>5</th>\n",
       "      <td>57.0</td>\n",
       "      <td>0.84</td>\n",
       "      <td>0.020018595806698514</td>\n",
       "      <td>0.05</td>\n",
       "      <td>5</td>\n",
       "    </tr>\n",
       "    <tr>\n",
       "      <th>6</th>\n",
       "      <td>63.2</td>\n",
       "      <td>0.24</td>\n",
       "      <td>8.209262515823657e-05</td>\n",
       "      <td>0.05</td>\n",
       "      <td>6</td>\n",
       "    </tr>\n",
       "    <tr>\n",
       "      <th>7</th>\n",
       "      <td>65.2</td>\n",
       "      <td>0.93</td>\n",
       "      <td>6.928725786226053e-06</td>\n",
       "      <td>0.05</td>\n",
       "      <td>7</td>\n",
       "    </tr>\n",
       "    <tr>\n",
       "      <th>8</th>\n",
       "      <td>64.4</td>\n",
       "      <td>0.73</td>\n",
       "      <td>2.48648673960572e-05</td>\n",
       "      <td>0.05</td>\n",
       "      <td>8</td>\n",
       "    </tr>\n",
       "    <tr>\n",
       "      <th>9</th>\n",
       "      <td>66.1</td>\n",
       "      <td>0.58</td>\n",
       "      <td>1.7735890870396176e-06</td>\n",
       "      <td>0.05</td>\n",
       "      <td>9</td>\n",
       "    </tr>\n",
       "    <tr>\n",
       "      <th>10</th>\n",
       "      <td>71.2</td>\n",
       "      <td>0.4</td>\n",
       "      <td>5.149597415154972e-10</td>\n",
       "      <td>0.05</td>\n",
       "      <td>10</td>\n",
       "    </tr>\n",
       "    <tr>\n",
       "      <th>11</th>\n",
       "      <td>71.7</td>\n",
       "      <td>0.4</td>\n",
       "      <td>2.0076962314874436e-10</td>\n",
       "      <td>0.05</td>\n",
       "      <td>11</td>\n",
       "    </tr>\n",
       "    <tr>\n",
       "      <th>12</th>\n",
       "      <td>71.7</td>\n",
       "      <td>0.4</td>\n",
       "      <td>2.0076962314874436e-10</td>\n",
       "      <td>0.05</td>\n",
       "      <td>12</td>\n",
       "    </tr>\n",
       "    <tr>\n",
       "      <th>13</th>\n",
       "      <td>77.2</td>\n",
       "      <td>0.51</td>\n",
       "      <td>1.2212453270876722e-15</td>\n",
       "      <td>0.05</td>\n",
       "      <td>13</td>\n",
       "    </tr>\n",
       "    <tr>\n",
       "      <th>14</th>\n",
       "      <td>80.9</td>\n",
       "      <td>0.58</td>\n",
       "      <td>1.1102230246251565e-16</td>\n",
       "      <td>0.05</td>\n",
       "      <td>14</td>\n",
       "    </tr>\n",
       "  </tbody>\n",
       "</table>\n",
       "</div>"
      ],
      "text/plain": [
       "Settings SVM-rbf / 5-rep_10-skfold                                    \\\n",
       "Results                     DA (%) STD (+/-)     p-values (Binomial)   \n",
       "0                             47.9      2.22      0.7376888221388045   \n",
       "1                             55.6      0.49    0.051819519218933796   \n",
       "2                             55.8       0.6    0.051819519218933796   \n",
       "3                             60.5       1.0   0.0011397192509029486   \n",
       "4                             60.3      0.68   0.0018174739762649716   \n",
       "5                             57.0      0.84    0.020018595806698514   \n",
       "6                             63.2      0.24   8.209262515823657e-05   \n",
       "7                             65.2      0.93   6.928725786226053e-06   \n",
       "8                             64.4      0.73    2.48648673960572e-05   \n",
       "9                             66.1      0.58  1.7735890870396176e-06   \n",
       "10                            71.2       0.4   5.149597415154972e-10   \n",
       "11                            71.7       0.4  2.0076962314874436e-10   \n",
       "12                            71.7       0.4  2.0076962314874436e-10   \n",
       "13                            77.2      0.51  1.2212453270876722e-15   \n",
       "14                            80.9      0.58  1.1102230246251565e-16   \n",
       "\n",
       "Settings                                \n",
       "Results  p-values (Permutations) Group  \n",
       "0                           0.45     0  \n",
       "1                           0.15     1  \n",
       "2                           0.05     2  \n",
       "3                           0.05     3  \n",
       "4                           0.05     4  \n",
       "5                           0.05     5  \n",
       "6                           0.05     6  \n",
       "7                           0.05     7  \n",
       "8                           0.05     8  \n",
       "9                           0.05     9  \n",
       "10                          0.05    10  \n",
       "11                          0.05    11  \n",
       "12                          0.05    12  \n",
       "13                          0.05    13  \n",
       "14                          0.05    14  "
      ]
     },
     "execution_count": 10,
     "metadata": {},
     "output_type": "execute_result"
    }
   ],
   "source": [
    "# Export every information to ecel :\n",
    "filename = 'classification_demo.xlsx'\n",
    "cla_obj.info.to_excel(filename)\n",
    "\n",
    "# Display informations about features :\n",
    "cla_obj.info.featinfo"
   ]
  },
  {
   "cell_type": "markdown",
   "metadata": {},
   "source": [
    "## Plot your results\n",
    "### Plot decoding"
   ]
  },
  {
   "cell_type": "code",
   "execution_count": 11,
   "metadata": {
    "collapsed": false
   },
   "outputs": [
    {
     "data": {
      "text/plain": [
       "<matplotlib.axes._subplots.AxesSubplot at 0x7f19547402b0>"
      ]
     },
     "execution_count": 11,
     "metadata": {},
     "output_type": "execute_result"
    },
    {
     "data": {
      "image/png": "[encoded data removed]",
      "text/plain": [
       "<matplotlib.figure.Figure at 0x7f1954740a58>"
      ]
     },
     "metadata": {},
     "output_type": "display_data"
    }
   ],
   "source": [
    "plt.figure(1, figsize=(12,8))\n",
    "\n",
    "cla_obj.daplot(da, daperm=daperm, chance_method='perm', rmax=['top', 'right'],\n",
    "               dpax=['bottom', 'left'], cmap='viridis')"
   ]
  },
  {
   "cell_type": "markdown",
   "metadata": {},
   "source": [
    "### Plot confusion matrix of the last feature only"
   ]
  },
  {
   "cell_type": "code",
   "execution_count": 25,
   "metadata": {
    "collapsed": false
   },
   "outputs": [
    {
     "name": "stdout",
     "output_type": "stream",
     "text": [
      "(2, 2)\n"
     ]
    },
    {
     "data": {
      "image/png": "[encoded data removed]",
      "text/plain": [
       "<matplotlib.figure.Figure at 0x7f195059be48>"
      ]
     },
     "metadata": {},
     "output_type": "display_data"
    }
   ],
   "source": [
    "# Get each confusion matrix of each feature :\n",
    "cm = cla_obj.cm()\n",
    "\n",
    "# Plot the confusion matrix of the mast feature (-1):\n",
    "fig2 = plt.figure(2, figsize=(6, 6))\n",
    "cla_obj.cmplot(fig2, cm[-1, ...], fignum=2, figtitle='My figure', subspace={'top':0.85},\n",
    "               title='Example of a confusion matrix', vmin=16, vmax=83);\n",
    "\n",
    "# Save the plot :\n",
    "fig2.savefig('My_confusion_matrix.png', dpi=300, bbox_inches='tight')"
   ]
  },
  {
   "cell_type": "markdown",
   "metadata": {},
   "source": [
    "# Introduction to grouping\n",
    "## The group parameter and multi-features\n",
    "Previously, we saw how to classify each feature separatly. Now we are going to see how to group features. In this example, we defined 15 features. So, we are going to define 3 groups features\n",
    "- 'Group1: the bad one': the 5 first\n",
    "- 'Group2: the middle one': the 3 following\n",
    "- 'Group3: the best one': the last 7 features"
   ]
  },
  {
   "cell_type": "code",
   "execution_count": 13,
   "metadata": {
    "collapsed": false
   },
   "outputs": [],
   "source": [
    "# Define the group parameter :\n",
    "grp = ['Group1: the bad one']*5 + ['Group2: the middle one']*3 + ['Group3: the best one']*7\n",
    "\n",
    "# Define a new classification object for this example :\n",
    "cla_obj2 = classify(y, clf='lda', cvtype='sss', cvArg={'rep':30, 'n_folds':10})\n",
    "\n",
    "# Run classification, not on each feature, but on each group of features:\n",
    "da2, pvalue2, daperm2 = cla_obj2.fit(x, grp=grp, method='label_rnd', n_perm=50)"
   ]
  },
  {
   "cell_type": "markdown",
   "metadata": {},
   "source": [
    "## Plot the grouping decoding"
   ]
  },
  {
   "cell_type": "code",
   "execution_count": 14,
   "metadata": {
    "collapsed": false
   },
   "outputs": [
    {
     "data": {
      "text/html": [
       "<div>\n",
       "<table border=\"1\" class=\"dataframe\">\n",
       "  <thead>\n",
       "    <tr>\n",
       "      <th>Settings</th>\n",
       "      <th colspan=\"5\" halign=\"left\">LDA / 30-rep_10-sss</th>\n",
       "    </tr>\n",
       "    <tr>\n",
       "      <th>Results</th>\n",
       "      <th>DA (%)</th>\n",
       "      <th>STD (+/-)</th>\n",
       "      <th>p-values (Binomial)</th>\n",
       "      <th>p-values (Permutations)</th>\n",
       "      <th>Group</th>\n",
       "    </tr>\n",
       "  </thead>\n",
       "  <tbody>\n",
       "    <tr>\n",
       "      <th>0</th>\n",
       "      <td>66.05</td>\n",
       "      <td>2.81</td>\n",
       "      <td>1.7735890870396176e-06</td>\n",
       "      <td>0.02</td>\n",
       "      <td>Group1: the bad one</td>\n",
       "    </tr>\n",
       "    <tr>\n",
       "      <th>1</th>\n",
       "      <td>71.61666666666666</td>\n",
       "      <td>3.8</td>\n",
       "      <td>2.0076962314874436e-10</td>\n",
       "      <td>0.02</td>\n",
       "      <td>Group2: the middle one</td>\n",
       "    </tr>\n",
       "    <tr>\n",
       "      <th>2</th>\n",
       "      <td>98.66666666666667</td>\n",
       "      <td>0.77</td>\n",
       "      <td>1.1102230246251565e-16</td>\n",
       "      <td>0.02</td>\n",
       "      <td>Group3: the best one</td>\n",
       "    </tr>\n",
       "  </tbody>\n",
       "</table>\n",
       "</div>"
      ],
      "text/plain": [
       "Settings LDA / 30-rep_10-sss                                    \\\n",
       "Results               DA (%) STD (+/-)     p-values (Binomial)   \n",
       "0                      66.05      2.81  1.7735890870396176e-06   \n",
       "1          71.61666666666666       3.8  2.0076962314874436e-10   \n",
       "2          98.66666666666667      0.77  1.1102230246251565e-16   \n",
       "\n",
       "Settings                                                  \n",
       "Results  p-values (Permutations)                   Group  \n",
       "0                           0.02     Group1: the bad one  \n",
       "1                           0.02  Group2: the middle one  \n",
       "2                           0.02    Group3: the best one  "
      ]
     },
     "execution_count": 14,
     "metadata": {},
     "output_type": "execute_result"
    },
    {
     "data": {
      "image/png": "[encoded data removed]",
      "text/plain": [
       "<matplotlib.figure.Figure at 0x7f1952026ba8>"
      ]
     },
     "metadata": {},
     "output_type": "display_data"
    }
   ],
   "source": [
    "plt.figure(3, figsize=(8, 6))\n",
    "cla_obj2.daplot(da2, cmap='Spectral_r', ylim=[45, 100], chance_method='perm',\n",
    "                daperm=daperm2, chance_color='darkgreen');\n",
    "cla_obj2.info.featinfo"
   ]
  },
  {
   "cell_type": "markdown",
   "metadata": {},
   "source": [
    "As we can see above, the classification is applied on each group. The mf parameter of the fit() function is just a shortcut to say that all features have to be consider together. \n",
    "U can use the grp parameter for:\n",
    "- Grouping features together\n",
    "- Labelize each one/group to have nice tables and plot"
   ]
  }
 ],
 "metadata": {
  "kernelspec": {
   "display_name": "Python 3",
   "language": "python",
   "name": "python3"
  },
  "language_info": {
   "codemirror_mode": {
    "name": "ipython",
    "version": 3
   },
   "file_extension": ".py",
   "mimetype": "text/x-python",
   "name": "python",
   "nbconvert_exporter": "python",
   "pygments_lexer": "ipython3",
   "version": "3.5.1"
  }
 },
 "nbformat": 4,
 "nbformat_minor": 0
}
